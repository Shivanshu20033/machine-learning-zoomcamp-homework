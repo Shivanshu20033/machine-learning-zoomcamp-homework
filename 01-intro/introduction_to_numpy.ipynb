{
 "cells": [
  {
   "cell_type": "code",
   "execution_count": 2,
   "id": "55a0faff-5eec-4e02-8cc9-72b3b33ffa3b",
   "metadata": {},
   "outputs": [],
   "source": [
    "import numpy as np"
   ]
  },
  {
   "cell_type": "code",
   "execution_count": 3,
   "id": "d6a518b7-b83f-445c-9c92-7d6779eb781a",
   "metadata": {},
   "outputs": [
    {
     "data": {
      "text/plain": [
       "<module 'numpy' from '/home/codespace/.local/lib/python3.12/site-packages/numpy/__init__.py'>"
      ]
     },
     "execution_count": 3,
     "metadata": {},
     "output_type": "execute_result"
    }
   ],
   "source": [
    "np"
   ]
  },
  {
   "cell_type": "markdown",
   "id": "b6cd1f0b-f79b-4205-9a0f-ea2f490b3f2d",
   "metadata": {},
   "source": [
    "# Create arrays"
   ]
  },
  {
   "cell_type": "code",
   "execution_count": 4,
   "id": "645efe7f-c3a5-41dd-9ed4-9fa319b2d32d",
   "metadata": {},
   "outputs": [
    {
     "data": {
      "text/plain": [
       "array([0., 0., 0., 0., 0., 0., 0., 0., 0., 0.])"
      ]
     },
     "execution_count": 4,
     "metadata": {},
     "output_type": "execute_result"
    }
   ],
   "source": [
    "np.zeros(10)"
   ]
  },
  {
   "cell_type": "code",
   "execution_count": 5,
   "id": "bcf4f4a6-b67c-4be3-9ab6-fe3b6cbc849e",
   "metadata": {},
   "outputs": [
    {
     "data": {
      "text/plain": [
       "array([1., 1., 1., 1., 1., 1., 1., 1., 1., 1.])"
      ]
     },
     "execution_count": 5,
     "metadata": {},
     "output_type": "execute_result"
    }
   ],
   "source": [
    "np.ones(10)"
   ]
  },
  {
   "cell_type": "code",
   "execution_count": 6,
   "id": "806c3bc2-1907-4b86-b301-5994d8ba08a7",
   "metadata": {},
   "outputs": [
    {
     "data": {
      "text/plain": [
       "array([2.5, 2.5, 2.5, 2.5, 2.5, 2.5, 2.5, 2.5, 2.5, 2.5])"
      ]
     },
     "execution_count": 6,
     "metadata": {},
     "output_type": "execute_result"
    }
   ],
   "source": [
    "np.full(10, 2.5)                      # np.full is a handy NumPy function used to create a new array of a specified shape filled with a constant value."
   ]
  },
  {
   "cell_type": "code",
   "execution_count": 7,
   "id": "fef196ee-aee3-421e-bb10-e814a3e3023f",
   "metadata": {},
   "outputs": [
    {
     "data": {
      "text/plain": [
       "array([ 1,  2,  5, 10])"
      ]
     },
     "execution_count": 7,
     "metadata": {},
     "output_type": "execute_result"
    }
   ],
   "source": [
    "a = np.array([1,2,5,10])                  # coverting python list into array\n",
    "a"
   ]
  },
  {
   "cell_type": "code",
   "execution_count": 8,
   "id": "7185a5cf-e059-42e6-9fbb-adf157a88696",
   "metadata": {},
   "outputs": [
    {
     "data": {
      "text/plain": [
       "np.int64(5)"
      ]
     },
     "execution_count": 8,
     "metadata": {},
     "output_type": "execute_result"
    }
   ],
   "source": [
    "a[2]                                      # accessing numbers in array (index start with 0)"
   ]
  },
  {
   "cell_type": "code",
   "execution_count": 9,
   "id": "15e77220-cb16-4864-ae91-0c7b71c0a38f",
   "metadata": {},
   "outputs": [
    {
     "data": {
      "text/plain": [
       "np.int64(1)"
      ]
     },
     "execution_count": 9,
     "metadata": {},
     "output_type": "execute_result"
    }
   ],
   "source": [
    "a[0]"
   ]
  },
  {
   "cell_type": "code",
   "execution_count": 12,
   "id": "4635eca5-6a02-4fe8-8dba-36f9c4b6c6f6",
   "metadata": {},
   "outputs": [
    {
     "data": {
      "text/plain": [
       "array([20,  2,  5, 10])"
      ]
     },
     "execution_count": 12,
     "metadata": {},
     "output_type": "execute_result"
    }
   ],
   "source": [
    "a[0] = 20\n",
    "a"
   ]
  },
  {
   "cell_type": "code",
   "execution_count": 13,
   "id": "1ca72d6e-7239-49be-a18a-5941118f8fce",
   "metadata": {},
   "outputs": [
    {
     "data": {
      "text/plain": [
       "array([0, 1, 2, 3, 4, 5, 6, 7, 8, 9])"
      ]
     },
     "execution_count": 13,
     "metadata": {},
     "output_type": "execute_result"
    }
   ],
   "source": [
    "np.arange(10)                            # creates a range of 10 from 0 to 9 by default and 10 is exclusive"
   ]
  },
  {
   "cell_type": "code",
   "execution_count": 14,
   "id": "a0d10c7f-8c91-40a2-8bb4-dd25ebf36df6",
   "metadata": {},
   "outputs": [
    {
     "data": {
      "text/plain": [
       "array([3, 4, 5, 6, 7, 8, 9])"
      ]
     },
     "execution_count": 14,
     "metadata": {},
     "output_type": "execute_result"
    }
   ],
   "source": [
    "np.arange(3, 10)                         # if we dont want from 0 we need to specify and 10 is exclusive so it will go till 9"
   ]
  },
  {
   "cell_type": "code",
   "execution_count": 15,
   "id": "d5f645cc-3768-4589-b766-70bc9774dd16",
   "metadata": {},
   "outputs": [
    {
     "data": {
      "text/plain": [
       "array([  0.,  10.,  20.,  30.,  40.,  50.,  60.,  70.,  80.,  90., 100.])"
      ]
     },
     "execution_count": 15,
     "metadata": {},
     "output_type": "execute_result"
    }
   ],
   "source": [
    "np.linspace(0, 100, 11)                   #It creates 11 numbers evenly spaced between 0 and 100, inclusive."
   ]
  },
  {
   "cell_type": "markdown",
   "id": "9799da42-2a11-48e1-bb7c-10b4248eae96",
   "metadata": {},
   "source": [
    "# Multi-dimensional arrays"
   ]
  },
  {
   "cell_type": "code",
   "execution_count": 16,
   "id": "0ea109d5-eb8b-4df0-aa4a-8dc5c6bba798",
   "metadata": {},
   "outputs": [
    {
     "data": {
      "text/plain": [
       "array([[0., 0.],\n",
       "       [0., 0.],\n",
       "       [0., 0.],\n",
       "       [0., 0.],\n",
       "       [0., 0.]])"
      ]
     },
     "execution_count": 16,
     "metadata": {},
     "output_type": "execute_result"
    }
   ],
   "source": [
    "np.zeros((5, 2))"
   ]
  },
  {
   "cell_type": "code",
   "execution_count": 18,
   "id": "f2eacdcd-e0e9-4c9d-91a2-052a3777583e",
   "metadata": {},
   "outputs": [],
   "source": [
    "n = np.array([\n",
    "    [1, 2, 3],\n",
    "    [4, 5, 6],\n",
    "    [7, 8, 9]\n",
    "])"
   ]
  },
  {
   "cell_type": "code",
   "execution_count": 19,
   "id": "fa3a8ee3-2f62-461c-8dba-04e6a37bebd0",
   "metadata": {},
   "outputs": [
    {
     "data": {
      "text/plain": [
       "np.int64(2)"
      ]
     },
     "execution_count": 19,
     "metadata": {},
     "output_type": "execute_result"
    }
   ],
   "source": [
    "n[0, 1]                                                  # accessing row 0 col 1"
   ]
  },
  {
   "cell_type": "code",
   "execution_count": 21,
   "id": "fa3746d0-ba1a-46a5-861a-4352a4b4f74a",
   "metadata": {},
   "outputs": [
    {
     "data": {
      "text/plain": [
       "array([[ 1, 20,  3],\n",
       "       [ 4,  5,  6],\n",
       "       [ 7,  8,  9]])"
      ]
     },
     "execution_count": 21,
     "metadata": {},
     "output_type": "execute_result"
    }
   ],
   "source": [
    "n[0, 1] = 20                                             # assigning new value\n",
    "n"
   ]
  },
  {
   "cell_type": "code",
   "execution_count": 23,
   "id": "6ad4fd63-be7a-4183-a0e1-cb36f84b7a9d",
   "metadata": {},
   "outputs": [
    {
     "data": {
      "text/plain": [
       "array([ 1, 20,  3])"
      ]
     },
     "execution_count": 23,
     "metadata": {},
     "output_type": "execute_result"
    }
   ],
   "source": [
    "n[0]                                  # if we want o full 0th row"
   ]
  },
  {
   "cell_type": "code",
   "execution_count": 24,
   "id": "13752723-7ed1-4e8e-b0c7-823460ecfd23",
   "metadata": {},
   "outputs": [
    {
     "data": {
      "text/plain": [
       "array([20,  5,  8])"
      ]
     },
     "execution_count": 24,
     "metadata": {},
     "output_type": "execute_result"
    }
   ],
   "source": [
    "n[:, 1]                            # if we want 1st col for all rows"
   ]
  },
  {
   "cell_type": "code",
   "execution_count": 25,
   "id": "b8b1e00e-e741-48b3-96fe-97ee4f7b722c",
   "metadata": {},
   "outputs": [
    {
     "data": {
      "text/plain": [
       "array([[ 1, 20,  3],\n",
       "       [ 4,  5,  6],\n",
       "       [ 7,  8,  9]])"
      ]
     },
     "execution_count": 25,
     "metadata": {},
     "output_type": "execute_result"
    }
   ],
   "source": [
    "n[:]                                # : means all rows"
   ]
  },
  {
   "cell_type": "code",
   "execution_count": 27,
   "id": "b1b75ff0-fdbf-46a6-a2ca-9cde1b161816",
   "metadata": {},
   "outputs": [
    {
     "data": {
      "text/plain": [
       "array([[ 1, 20,  3],\n",
       "       [ 4,  5,  6],\n",
       "       [ 1,  1,  1]])"
      ]
     },
     "execution_count": 27,
     "metadata": {},
     "output_type": "execute_result"
    }
   ],
   "source": [
    "n[2] = [1, 1, 1]                   # asssigning new values to 3rd row\n",
    "n"
   ]
  },
  {
   "cell_type": "code",
   "execution_count": 28,
   "id": "8e660b6b-b75b-4f14-b9fa-df591d071bb3",
   "metadata": {},
   "outputs": [
    {
     "data": {
      "text/plain": [
       "array([[1, 0, 3],\n",
       "       [4, 0, 6],\n",
       "       [1, 0, 1]])"
      ]
     },
     "execution_count": 28,
     "metadata": {},
     "output_type": "execute_result"
    }
   ],
   "source": [
    "n[:, 1] = [0, 0, 0]                # assigning new values to 2nd col of all rows\n",
    "n"
   ]
  },
  {
   "cell_type": "markdown",
   "id": "e3c81d6b-c9c1-4e36-be11-028dd3f36d71",
   "metadata": {},
   "source": [
    "# Randomly generated arrays"
   ]
  },
  {
   "cell_type": "code",
   "execution_count": 29,
   "id": "4725f171-f781-4f12-9153-671c0094446d",
   "metadata": {},
   "outputs": [
    {
     "data": {
      "text/plain": [
       "array([[0.00759397, 0.48632223],\n",
       "       [0.46469588, 0.0201453 ],\n",
       "       [0.67353797, 0.65004811],\n",
       "       [0.31791927, 0.5280887 ],\n",
       "       [0.4597573 , 0.66370964]])"
      ]
     },
     "execution_count": 29,
     "metadata": {},
     "output_type": "execute_result"
    }
   ],
   "source": [
    "np.random.rand(5, 2)"
   ]
  },
  {
   "cell_type": "code",
   "execution_count": 30,
   "id": "9900b5f5-110c-4a12-892f-a7a69986067a",
   "metadata": {},
   "outputs": [
    {
     "data": {
      "text/plain": [
       "array([[0.4359949 , 0.02592623],\n",
       "       [0.54966248, 0.43532239],\n",
       "       [0.4203678 , 0.33033482],\n",
       "       [0.20464863, 0.61927097],\n",
       "       [0.29965467, 0.26682728]])"
      ]
     },
     "execution_count": 30,
     "metadata": {},
     "output_type": "execute_result"
    }
   ],
   "source": [
    "np.random.seed(2)      # np.random.seed() is used to control randomness in NumPy — especially when you're generating random numbers — so that your results are reproducible.\n",
    "np.random.rand(5,2)    # Run it again with the same seed? You’ll get the same output.Change the seed, or remove it, and you'll get different numbers."
   ]
  },
  {
   "cell_type": "code",
   "execution_count": 31,
   "id": "b64750e5-ad93-46ed-b449-df3d12394079",
   "metadata": {},
   "outputs": [
    {
     "data": {
      "text/plain": [
       "array([[-0.41675785, -0.05626683],\n",
       "       [-2.1361961 ,  1.64027081],\n",
       "       [-1.79343559, -0.84174737],\n",
       "       [ 0.50288142, -1.24528809],\n",
       "       [-1.05795222, -0.90900761]])"
      ]
     },
     "execution_count": 31,
     "metadata": {},
     "output_type": "execute_result"
    }
   ],
   "source": [
    "np.random.seed(2) \n",
    "np.random.randn(5,2)   # np.random.randn(5, 2) means: Generate a 5×2 array, Values are from the standard normal distribution, i.e., mean = 0, standard deviation = 1, The values can be positive or negative, They follow a bell curve (normal distribution)"
   ]
  },
  {
   "cell_type": "code",
   "execution_count": 32,
   "id": "26b3edb2-4405-4e89-bc67-1728ead2527e",
   "metadata": {},
   "outputs": [
    {
     "data": {
      "text/plain": [
       "array([[40, 15],\n",
       "       [72, 22],\n",
       "       [43, 82],\n",
       "       [75,  7],\n",
       "       [34, 49]])"
      ]
     },
     "execution_count": 32,
     "metadata": {},
     "output_type": "execute_result"
    }
   ],
   "source": [
    "np.random.seed(2)\n",
    "np.random.randint(low = 0, high = 100, size = (5, 2))  #Generates a 5×2 NumPy array of random integers. Each integer is ≥ 0 (inclusive)and < 100 (exclusive).So values will be from 0 to 99 (inclusive)"
   ]
  },
  {
   "cell_type": "markdown",
   "id": "e1b949f7-9092-44d7-8fd5-f53970d7db26",
   "metadata": {},
   "source": [
    "# Element wise operations"
   ]
  },
  {
   "cell_type": "code",
   "execution_count": 33,
   "id": "9575f66e-6138-4519-8410-002a58f674c0",
   "metadata": {},
   "outputs": [
    {
     "data": {
      "text/plain": [
       "array([0, 1, 2, 3, 4])"
      ]
     },
     "execution_count": 33,
     "metadata": {},
     "output_type": "execute_result"
    }
   ],
   "source": [
    "a = np.arange(5)\n",
    "a"
   ]
  },
  {
   "cell_type": "code",
   "execution_count": 34,
   "id": "1ebadd7a-d1fb-455f-9d7c-24aaef486e63",
   "metadata": {},
   "outputs": [
    {
     "data": {
      "text/plain": [
       "array([1, 2, 3, 4, 5])"
      ]
     },
     "execution_count": 34,
     "metadata": {},
     "output_type": "execute_result"
    }
   ],
   "source": [
    "a + 1           # adds 1 to every elemt of array"
   ]
  },
  {
   "cell_type": "code",
   "execution_count": 35,
   "id": "ef121cd7-2868-484b-af7f-5b723aa36f34",
   "metadata": {},
   "outputs": [
    {
     "data": {
      "text/plain": [
       "array([0, 2, 4, 6, 8])"
      ]
     },
     "execution_count": 35,
     "metadata": {},
     "output_type": "execute_result"
    }
   ],
   "source": [
    "a * 2              # multiply 2 to every element and we can -, /"
   ]
  },
  {
   "cell_type": "code",
   "execution_count": 36,
   "id": "541809af-96d7-4dda-9c24-81940f7f9f6b",
   "metadata": {},
   "outputs": [
    {
     "data": {
      "text/plain": [
       "array([ 10, 110, 210, 310, 410])"
      ]
     },
     "execution_count": 36,
     "metadata": {},
     "output_type": "execute_result"
    }
   ],
   "source": [
    "b = 10 + (a * 100)    # chaining: multiplying with 100 and adding 10 to every elemt of a and assigning to b\n",
    "b"
   ]
  },
  {
   "cell_type": "code",
   "execution_count": 37,
   "id": "8c8c8eaa-04f0-4d79-931e-ed99ce13f78b",
   "metadata": {},
   "outputs": [
    {
     "data": {
      "text/plain": [
       "array([0, 1, 2, 3, 4])"
      ]
     },
     "execution_count": 37,
     "metadata": {},
     "output_type": "execute_result"
    }
   ],
   "source": [
    "a"
   ]
  },
  {
   "cell_type": "code",
   "execution_count": 38,
   "id": "56e74423-bfb5-4ccb-a879-876d4dc1b4ba",
   "metadata": {},
   "outputs": [
    {
     "data": {
      "text/plain": [
       "array([ 10, 111, 212, 313, 414])"
      ]
     },
     "execution_count": 38,
     "metadata": {},
     "output_type": "execute_result"
    }
   ],
   "source": [
    "a + b"
   ]
  },
  {
   "cell_type": "markdown",
   "id": "a26f2682-b3ab-42ad-99c3-fc96dcc9b514",
   "metadata": {},
   "source": [
    "# Comparison operations"
   ]
  },
  {
   "cell_type": "code",
   "execution_count": 39,
   "id": "955a1901-4dd2-44a9-982c-b90b55df2894",
   "metadata": {},
   "outputs": [
    {
     "data": {
      "text/plain": [
       "array([0, 1, 2, 3, 4])"
      ]
     },
     "execution_count": 39,
     "metadata": {},
     "output_type": "execute_result"
    }
   ],
   "source": [
    "a"
   ]
  },
  {
   "cell_type": "code",
   "execution_count": 40,
   "id": "595e1125-d187-4e02-ba95-b0e090c4e1e6",
   "metadata": {},
   "outputs": [
    {
     "data": {
      "text/plain": [
       "array([False, False,  True,  True,  True])"
      ]
     },
     "execution_count": 40,
     "metadata": {},
     "output_type": "execute_result"
    }
   ],
   "source": [
    "a >= 2                  # tells us which elements satisy the condn."
   ]
  },
  {
   "cell_type": "code",
   "execution_count": 41,
   "id": "22bd1adf-692e-4ee6-b3f0-3a89dbbeeb45",
   "metadata": {},
   "outputs": [
    {
     "data": {
      "text/plain": [
       "array([ 10, 110, 210, 310, 410])"
      ]
     },
     "execution_count": 41,
     "metadata": {},
     "output_type": "execute_result"
    }
   ],
   "source": [
    "b"
   ]
  },
  {
   "cell_type": "code",
   "execution_count": 42,
   "id": "52f84239-99c9-418e-9d78-3c2f36365b09",
   "metadata": {},
   "outputs": [
    {
     "data": {
      "text/plain": [
       "array([ 10,   0, 210, 310, 410])"
      ]
     },
     "execution_count": 42,
     "metadata": {},
     "output_type": "execute_result"
    }
   ],
   "source": [
    "b[1] = 0\n",
    "b"
   ]
  },
  {
   "cell_type": "code",
   "execution_count": 43,
   "id": "be287f22-081c-4f7b-91d0-9b214a5b4a5f",
   "metadata": {},
   "outputs": [
    {
     "data": {
      "text/plain": [
       "array([False,  True, False, False, False])"
      ]
     },
     "execution_count": 43,
     "metadata": {},
     "output_type": "execute_result"
    }
   ],
   "source": [
    "a > b"
   ]
  },
  {
   "cell_type": "code",
   "execution_count": 44,
   "id": "e69329c6-f6cc-42a7-93ba-da33e62f2cd0",
   "metadata": {},
   "outputs": [
    {
     "data": {
      "text/plain": [
       "array([1])"
      ]
     },
     "execution_count": 44,
     "metadata": {},
     "output_type": "execute_result"
    }
   ],
   "source": [
    "a[a > b]           # which elements of a are greater than element of b"
   ]
  },
  {
   "cell_type": "markdown",
   "id": "bfd102a9-4b52-4a0c-b449-27dc87c959d7",
   "metadata": {},
   "source": [
    "# Summarizing operations"
   ]
  },
  {
   "cell_type": "code",
   "execution_count": 45,
   "id": "33d73821-51f2-4d34-893e-f56a8197e019",
   "metadata": {},
   "outputs": [
    {
     "data": {
      "text/plain": [
       "array([0, 1, 2, 3, 4])"
      ]
     },
     "execution_count": 45,
     "metadata": {},
     "output_type": "execute_result"
    }
   ],
   "source": [
    "a"
   ]
  },
  {
   "cell_type": "code",
   "execution_count": 46,
   "id": "6e2fdc43-6df4-4799-ba62-8567a68a0d55",
   "metadata": {},
   "outputs": [
    {
     "data": {
      "text/plain": [
       "np.int64(0)"
      ]
     },
     "execution_count": 46,
     "metadata": {},
     "output_type": "execute_result"
    }
   ],
   "source": [
    "a.min()"
   ]
  },
  {
   "cell_type": "code",
   "execution_count": 47,
   "id": "fc7198d8-9672-40ad-b852-c28e91a4706e",
   "metadata": {},
   "outputs": [
    {
     "data": {
      "text/plain": [
       "np.int64(4)"
      ]
     },
     "execution_count": 47,
     "metadata": {},
     "output_type": "execute_result"
    }
   ],
   "source": [
    "a.max()"
   ]
  },
  {
   "cell_type": "code",
   "execution_count": 48,
   "id": "66115d33-c33b-4082-8666-fa6da2817238",
   "metadata": {},
   "outputs": [
    {
     "data": {
      "text/plain": [
       "np.int64(10)"
      ]
     },
     "execution_count": 48,
     "metadata": {},
     "output_type": "execute_result"
    }
   ],
   "source": [
    "a.sum()      # sum of all arrays"
   ]
  },
  {
   "cell_type": "code",
   "execution_count": 49,
   "id": "f7532d6c-0aa7-4817-a4f3-42e62f7ef82b",
   "metadata": {},
   "outputs": [
    {
     "data": {
      "text/plain": [
       "np.float64(2.0)"
      ]
     },
     "execution_count": 49,
     "metadata": {},
     "output_type": "execute_result"
    }
   ],
   "source": [
    "a.mean()"
   ]
  },
  {
   "cell_type": "code",
   "execution_count": 50,
   "id": "d463d154-4613-4545-ada2-bbf10b53f597",
   "metadata": {},
   "outputs": [
    {
     "data": {
      "text/plain": [
       "np.float64(1.4142135623730951)"
      ]
     },
     "execution_count": 50,
     "metadata": {},
     "output_type": "execute_result"
    }
   ],
   "source": [
    "a.std()      # standard deviation"
   ]
  },
  {
   "cell_type": "code",
   "execution_count": 51,
   "id": "13b5a276-cc3a-44d2-8129-97819d9871e2",
   "metadata": {},
   "outputs": [
    {
     "data": {
      "text/plain": [
       "array([[1, 0, 3],\n",
       "       [4, 0, 6],\n",
       "       [1, 0, 1]])"
      ]
     },
     "execution_count": 51,
     "metadata": {},
     "output_type": "execute_result"
    }
   ],
   "source": [
    "n"
   ]
  },
  {
   "cell_type": "code",
   "execution_count": 52,
   "id": "a83e8341-596b-4c54-9738-58734b7f59ca",
   "metadata": {},
   "outputs": [
    {
     "data": {
      "text/plain": [
       "np.float64(1.7777777777777777)"
      ]
     },
     "execution_count": 52,
     "metadata": {},
     "output_type": "execute_result"
    }
   ],
   "source": [
    "n.mean()"
   ]
  }
 ],
 "metadata": {
  "kernelspec": {
   "display_name": "Python 3 (ipykernel)",
   "language": "python",
   "name": "python3"
  },
  "language_info": {
   "codemirror_mode": {
    "name": "ipython",
    "version": 3
   },
   "file_extension": ".py",
   "mimetype": "text/x-python",
   "name": "python",
   "nbconvert_exporter": "python",
   "pygments_lexer": "ipython3",
   "version": "3.12.1"
  }
 },
 "nbformat": 4,
 "nbformat_minor": 5
}
